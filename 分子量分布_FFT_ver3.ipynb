{
  "cells": [
    {
      "cell_type": "code",
      "execution_count": 1,
      "metadata": {
        "id": "3PqMO-SLgKzR"
      },
      "outputs": [],
      "source": [
        "import numpy as np\n",
        "import matplotlib.pyplot as plt\n",
        "import time"
      ]
    },
    {
      "cell_type": "code",
      "execution_count": 2,
      "metadata": {
        "id": "EdZ47TaMgVFQ"
      },
      "outputs": [],
      "source": [
        "import cmath\n",
        " \n",
        "class FFT:\n",
        "    def __init__(self):\n",
        "        self.pi = cmath.pi\n",
        "    \n",
        "    def convolution(self, g, h):\n",
        "        l = len(g) + len(h)\n",
        "        n = 1 << l.bit_length()\n",
        "        \n",
        "        g = g + [0] * (n - len(g))\n",
        "        h = h + [0] * (n - len(h))\n",
        "       \n",
        "        gg = self.fft(g, n)\n",
        "        hh = self.fft(h, n)\n",
        "        ff = [gg[i] * hh[i] for i in range(n)]\n",
        " \n",
        "        return self.inv_fft(ff, n)\n",
        " \n",
        "    def fft(self, f, n, sgn = 1):\n",
        "        if n == 1: return f\n",
        " \n",
        "        f0 = [f[2 * i] for i in range(n // 2)]\n",
        "        f1 = [f[2 * i + 1] for i in range(n // 2)]\n",
        "        f0 = self.fft(f0, n // 2, sgn)\n",
        "        f1 = self.fft(f1, n // 2, sgn)\n",
        " \n",
        "        zeta = cmath.rect(1, sgn * self.pi * 2 / n)\n",
        "        pow_zeta = 1\n",
        " \n",
        "        for i in range(n):\n",
        "            f[i] = f0[i % (n // 2)] + pow_zeta * f1[i % (n // 2)]\n",
        "            pow_zeta *= zeta\n",
        " \n",
        "        return f\n",
        " \n",
        "    def inv_fft(self, f, n):\n",
        "        ret = self.fft(f, n, -1)\n",
        "        for i in range(n):\n",
        "            ret[i] = (ret[i].real / n)\n",
        " \n",
        "        return ret"
      ]
    },
    {
      "cell_type": "code",
      "execution_count": null,
      "metadata": {
        "id": "NadexjrZl4-H"
      },
      "outputs": [],
      "source": [
        "\"\"\"\n",
        "方針\n",
        "モノマーのみと反応させる　不活化したポリマーは再活性化しない(別に話が簡単になっていいけど)\n",
        "モノマーとラジカルの重合確率は同じとする\n",
        "\"\"\"\n",
        "\n",
        "Time=3000\n",
        "N=1*10**4\n",
        "mol=10**6\n",
        "init=mol/1000#\n",
        "\n",
        "mono=[0 for i in range(2)] #モノマーだけ\n",
        "mono[1]=mol\n",
        "\n",
        "#ループ開始用\n",
        "A=mono[:]+[0]*(N-len(mono))\n",
        "B=[0.0]*N\n",
        "C=[0.0]*N\n",
        "\n",
        "fft=FFT()\n",
        "\n",
        "k=0.1\n",
        "r=0\n",
        "threshold=init*k\n",
        "\n",
        "dead=0\n",
        "for step in range(Time):\n",
        "    print(step)\n",
        "    #開始剤の記述\n",
        "    print(\"開始剤:%f\" % (init))\n",
        "    #k+=0.0001\n",
        "    delta_init=k*init\n",
        "    init-=delta_init\n",
        "    init=max(init,0)\n",
        "    B[0]+=delta_init\n",
        "    \n",
        "    #反応する分子数を決める\n",
        "    SUM_A,SUM_B=sum(A),sum(B)\n",
        "    x=1/2*(SUM_B/(SUM_A+SUM_B))#アタックを受けて殺されるラジカルの割合\n",
        "    B_die=[x*B[i] for i in range(N)]\n",
        "    B=[B[i]-B_die[i] for i in range(N)]\n",
        "    \n",
        "    SUM_B_die=sum(B_die)\n",
        "    A_per=[A[i]/(SUM_A) for i in range(N)]\n",
        "    #B_per=[B[i]/(SUM_A+SUM_B_die) for i in range(N)]\n",
        "    B_die_per=[B_die[i]/(SUM_B_die) for i in range(N)]\n",
        "    print(\"B_die_per:%f\" % (sum(B_die_per)))\n",
        "\n",
        "    #ここでB_dieとの整合性とれない？？？\n",
        "\n",
        "    #BtoA=[B[i]*SUM_A/(SUM_A+SUM_B_die) for i in range(N)]\n",
        "    #BtoB=[B[i]*SUM_B_die/(SUM_A+SUM_B_die) for i in range(N)]\n",
        "    BtoA=[B[i]-B_die[i] for i in range(N)]\n",
        "    BtoB=B_die[:]\n",
        "\n",
        "    #FFTする　これはそれぞれの生成を考えるときに使う？\n",
        "    delta_C=(fft.convolution(B_die_per,BtoB))\n",
        "    delta_B=(fft.convolution(A_per,BtoA))\n",
        "\n",
        "    dead_N=len(delta_C)-len(C)\n",
        "    dead+=sum([delta_C[i]*i for i in range(N,N+dead_N)])+sum([delta_B[i]*i for i in range(N,N+dead_N)])\n",
        "    print(\"残りモノマー:%f ラジカル反応数:%f 死ぬラジカル数%f 生まれたポリマー数%f\" % (SUM_A,SUM_B,SUM_B_die,sum(delta_C)))#死ぬラジカル数とポリマー数が一緒じゃないとおかしくない？\n",
        "    print(\"計算上死んだモノマー:%f\" % (dead))\n",
        "    \n",
        "    #モノマー\n",
        "    A[1]-=SUM_B-2*SUM_B_die\n",
        "    #ラジカル\n",
        "    B=[delta_B[i] if delta_B[i]>10**-4 else 0 for i in range(len(A))]\n",
        "    #ポリマー\n",
        "    C=[C[i]+delta_C[i] for i in range(len(A))]\n",
        "    \n",
        "    print('ポリマー量:%f' % (sum([A[i]*i for i in range(len(A))])+sum([B[i]*i for i in range(len(B))])+sum([C[i]*i for i in range(len(C))])))\n",
        "\n",
        "    print('残りモノマー数:%f' % (sum(A)))\n",
        "    plt.plot([C[i]*i for i in range(len(A))])\n",
        "    plt.show()\n",
        "    plt.plot([B[i]*i for i in range(len(B))])\n",
        "    plt.show()\n",
        "    "
      ]
    },
    {
      "cell_type": "code",
      "source": [
        "sum([C[i]*i for i in range(N)])/len(C)"
      ],
      "metadata": {
        "id": "58Z2_X1qs2bl"
      },
      "execution_count": null,
      "outputs": []
    }
  ],
  "metadata": {
    "colab": {
      "collapsed_sections": [],
      "name": "分子量分布_FFT_ver3.ipynb",
      "provenance": []
    },
    "kernelspec": {
      "display_name": "Python 3",
      "name": "python3"
    },
    "language_info": {
      "name": "python"
    }
  },
  "nbformat": 4,
  "nbformat_minor": 0
}